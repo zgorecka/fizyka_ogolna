{
  "metadata": {
    "kernelspec": {
      "name": "python",
      "display_name": "Python (Pyodide)",
      "language": "python"
    },
    "language_info": {
      "codemirror_mode": {
        "name": "python",
        "version": 3
      },
      "file_extension": ".py",
      "mimetype": "text/x-python",
      "name": "python",
      "nbconvert_exporter": "python",
      "pygments_lexer": "ipython3",
      "version": "3.8"
    }
  },
  "nbformat_minor": 4,
  "nbformat": 4,
  "cells": [
    {
      "cell_type": "code",
      "source": "import sympy as sp\nimport numpy as np\nfrom scipy.integrate import quad\nfrom scipy.stats import norm\nimport matplotlib.pyplot as plt\nfrom sympy.utilities import lambdify\nfrom matplotlib.animation import FuncAnimation\nfrom IPython.display import HTML",
      "metadata": {
        "trusted": true
      },
      "outputs": [],
      "execution_count": null
    },
    {
      "cell_type": "code",
      "source": "sp.init_printing()",
      "metadata": {
        "trusted": true
      },
      "outputs": [],
      "execution_count": null
    },
    {
      "cell_type": "code",
      "source": "x = sp.Symbol('x', real=True)\nk = sp.Symbol('k', real=True, positive=True)\na = sp.Symbol('a', real=True)\nm = sp.Symbol('m', real=True, positive=True)\nt = sp.Symbol('t', real=True, positive=True)\nh = sp.Symbol('hbar', real=True, positive=True)\nn = sp.Symbol('n', integer=True, nonzero=True)\npsi = sp.Function('psi')\n\nx, k, a, m, t, h, n, psi(x)",
      "metadata": {
        "trusted": true
      },
      "outputs": [],
      "execution_count": null
    },
    {
      "cell_type": "markdown",
      "source": "$$\\frac{d^2\\psi(x)}{dx^2} = -k^2\\psi(x)$$",
      "metadata": {}
    },
    {
      "cell_type": "code",
      "source": "psi(x).diff(x, x)",
      "metadata": {
        "trusted": true
      },
      "outputs": [],
      "execution_count": null
    },
    {
      "cell_type": "code",
      "source": "-k**2 * psi(x)",
      "metadata": {
        "trusted": true
      },
      "outputs": [],
      "execution_count": null
    },
    {
      "cell_type": "code",
      "source": "eq = sp.Eq(psi(x).diff(x, x), -k**2 * psi(x))\neq",
      "metadata": {
        "trusted": true
      },
      "outputs": [],
      "execution_count": null
    },
    {
      "cell_type": "code",
      "source": "sp.dsolve(eq, psi(x))",
      "metadata": {
        "trusted": true
      },
      "outputs": [],
      "execution_count": null
    },
    {
      "cell_type": "code",
      "source": "sp.dsolve(eq, psi(x), ics={psi(0): 0, psi(a): 0})",
      "metadata": {
        "trusted": true
      },
      "outputs": [],
      "execution_count": null
    },
    {
      "cell_type": "code",
      "source": "sol = sp.dsolve(eq, psi(x), ics={psi(0): 0})\nsol",
      "metadata": {
        "trusted": true
      },
      "outputs": [],
      "execution_count": null
    },
    {
      "cell_type": "code",
      "source": "plt.hlines(np.arange(1, 10)**2, 0, 1)",
      "metadata": {
        "trusted": true
      },
      "outputs": [],
      "execution_count": null
    },
    {
      "cell_type": "code",
      "source": "sol = sol.subs(k, n * sp.pi / a)\nsol",
      "metadata": {
        "trusted": true
      },
      "outputs": [],
      "execution_count": null
    },
    {
      "cell_type": "code",
      "source": "sol.lhs, sol.rhs",
      "metadata": {
        "trusted": true
      },
      "outputs": [],
      "execution_count": null
    },
    {
      "cell_type": "code",
      "source": "sp.Abs(sol.rhs)**2",
      "metadata": {
        "trusted": true
      },
      "outputs": [],
      "execution_count": null
    },
    {
      "cell_type": "code",
      "source": "sp.integrate(sol.rhs**2, (x, 0, a))",
      "metadata": {
        "trusted": true
      },
      "outputs": [],
      "execution_count": null
    },
    {
      "cell_type": "code",
      "source": "sol = sol.subs(sp.Symbol('C1'), sp.sqrt(2 / a))\nsol",
      "metadata": {
        "trusted": true
      },
      "outputs": [],
      "execution_count": null
    },
    {
      "cell_type": "code",
      "source": "En = n**2 * sp.pi**2 * h**2 / (2 * m * a**2)\nEn",
      "metadata": {
        "trusted": true
      },
      "outputs": [],
      "execution_count": null
    },
    {
      "cell_type": "code",
      "source": "phi = sp.exp(-sp.I * En * t / h)\nphi",
      "metadata": {
        "trusted": true
      },
      "outputs": [],
      "execution_count": null
    },
    {
      "cell_type": "code",
      "source": "Psi = sol.rhs * phi\nPsi",
      "metadata": {
        "trusted": true
      },
      "outputs": [],
      "execution_count": null
    },
    {
      "cell_type": "code",
      "source": "Psif = lambdify((x, t, n), Psi.subs({a: 1, m: 1, h: 1}))\nPsif",
      "metadata": {
        "trusted": true
      },
      "outputs": [],
      "execution_count": null
    },
    {
      "cell_type": "code",
      "source": "Psif(0.3, 2.3, 1)",
      "metadata": {
        "trusted": true
      },
      "outputs": [],
      "execution_count": null
    },
    {
      "cell_type": "code",
      "source": "xs = np.linspace(0, 1, 1000)\n\nplt.grid(linestyle='--')\n\nys = Psif(xs, 0, 1).real\nplt.plot(xs, ys)\n\nys = Psif(xs, 0, 2).real\nplt.plot(xs, ys)\n\nys = Psif(xs, 0, 3).real\nplt.plot(xs, ys)",
      "metadata": {
        "trusted": true
      },
      "outputs": [],
      "execution_count": null
    },
    {
      "cell_type": "code",
      "source": "n = 3\n\nxs = np.linspace(0, 1, 1000)\n\nfig = plt.figure()\n\nplt.xlim(0, 1)\nplt.ylim(-1.5, 1.5)\n\nplot1, = plt.plot([], [])\nplot2, = plt.plot([], [])\n\nplt.close()\n\ndt = 0.001\n\ndef frame(i):\n    ys = Psif(xs, i * dt, n)\n\n    plot1.set_data(xs, ys.real)\n    plot2.set_data(xs, ys.imag)\n\n    return plot1, plot2\n\nanim = FuncAnimation(fig, frame, frames=300, interval=20, blit=True)\nHTML(anim.to_jshtml())",
      "metadata": {
        "trusted": true
      },
      "outputs": [],
      "execution_count": null
    },
    {
      "cell_type": "code",
      "source": "n = 2\n\nxs = np.linspace(0, 1, 1000)\n\nfig = plt.figure()\n\nplt.xlim(0, 1)\nplt.ylim(0, 3)\n\nplot1, = plt.plot([], [])\n\n\nplt.close()\n\ndt = 0.001\n\ndef frame(i):\n    ys = Psif(xs, i * dt, n)\n\n    plot1.set_data(xs, np.abs(ys)**2)\n\n    return plot1,\n\nanim = FuncAnimation(fig, frame, frames=300, interval=20, blit=True)\nHTML(anim.to_jshtml())",
      "metadata": {
        "trusted": true
      },
      "outputs": [],
      "execution_count": null
    },
    {
      "cell_type": "code",
      "source": "xs = np.linspace(0, 1, 1000)\n\nfig = plt.figure()\n\nplt.xlim(0, 1)\nplt.ylim(0, 4)\n\nplot1, = plt.plot([], [])\n\n\nplt.close()\n\ndt = 0.001\n\ndef frame(i):\n    ys = (1 * Psif(xs, i * dt, 1) + 1 * Psif(xs, i * dt, 2) + Psif(xs, i * dt, 3) + Psif(xs, i * dt, 4)) / np.sqrt(1**2 + 1**2 + 1**2 + 1**2)\n\n    plot1.set_data(xs, np.abs(ys)**2)\n\n    return plot1,\n\nanim = FuncAnimation(fig, frame, frames=600, interval=20, blit=True)\nHTML(anim.to_jshtml())",
      "metadata": {
        "trusted": true
      },
      "outputs": [],
      "execution_count": null
    },
    {
      "cell_type": "markdown",
      "source": "$$<\\omega>=\\int \\Psi^{*} \\hat{\\omega} \\Psi\\ dx$$\nW stanie stacjonarnym\n$$<\\omega>=\\int \\psi^{*} \\hat{\\omega} \\psi\\ dx$$\n\n$$\\hat{x}=x$$",
      "metadata": {}
    },
    {
      "cell_type": "code",
      "source": "sol.rhs * x * sol.rhs",
      "metadata": {
        "trusted": true
      },
      "outputs": [],
      "execution_count": null
    },
    {
      "cell_type": "code",
      "source": "sp.integrate(sol.rhs * x * sol.rhs, (x, 0, a)).simplify()",
      "metadata": {
        "trusted": true
      },
      "outputs": [],
      "execution_count": null
    },
    {
      "cell_type": "code",
      "source": "sp.integrate(sol.rhs * x**2 * sol.rhs, (x, 0, a)).simplify()",
      "metadata": {
        "trusted": true
      },
      "outputs": [],
      "execution_count": null
    },
    {
      "cell_type": "markdown",
      "source": "$$\\sigma_X^2=<x^2>-<x>^2$$",
      "metadata": {}
    },
    {
      "cell_type": "code",
      "source": "sigma_x = sp.sqrt(sp.integrate(sol.rhs * x**2 * sol.rhs, (x, 0, a)) - (sp.integrate(sol.rhs * x * sol.rhs, (x, 0, a)))**2).simplify()\nsigma_x",
      "metadata": {
        "trusted": true
      },
      "outputs": [],
      "execution_count": null
    },
    {
      "cell_type": "markdown",
      "source": "$$<p>=\\int \\psi^{*} \\hat{p} \\psi\\ dx$$\n$$\\hat{p} = -i \\hbar \\frac{d}{dx}$$\n$$<p^2>=\\int \\psi^{*} \\hat{p}^2 \\psi\\ dx$$\n$$\\sigma_P^2=<p^2>-<p>^2$$\n\n$$\\sigma_X \\sigma_P \\geq \\frac{\\hbar}{2}$$\n\nSpradzić, czy ta zasada nieoznaczoności jest faktycznie dla tej studni potencjału spełniona.",
      "metadata": {}
    },
    {
      "cell_type": "code",
      "source": "p=-sp.I * h * sol.rhs.diff(x)\np",
      "metadata": {
        "trusted": true
      },
      "outputs": [],
      "execution_count": null
    },
    {
      "cell_type": "code",
      "source": "p_2= (-sp.I * h)**2 * sol.rhs.diff(x, x) #p^2\np_2",
      "metadata": {
        "trusted": true
      },
      "outputs": [],
      "execution_count": null
    },
    {
      "cell_type": "code",
      "source": "sol.rhs * p",
      "metadata": {
        "trusted": true
      },
      "outputs": [],
      "execution_count": null
    },
    {
      "cell_type": "code",
      "source": "sp.integrate(sol.rhs * p, (x, 0, a)).simplify()",
      "metadata": {
        "trusted": true
      },
      "outputs": [],
      "execution_count": null
    },
    {
      "cell_type": "code",
      "source": "sp.integrate(sol.rhs * p_2, (x, 0, a)).simplify()",
      "metadata": {
        "trusted": true
      },
      "outputs": [],
      "execution_count": null
    },
    {
      "cell_type": "code",
      "source": "sigma_p = sp.sqrt(sp.integrate(sol.rhs * p_2, (x, 0, a)) - (sp.integrate(sol.rhs * p, (x, 0, a)))**2).simplify()\nsigma_p",
      "metadata": {
        "trusted": true
      },
      "outputs": [],
      "execution_count": null
    },
    {
      "cell_type": "code",
      "source": "(sigma_x * sigma_p >= h/2).simplify()",
      "metadata": {
        "trusted": true
      },
      "outputs": [],
      "execution_count": null
    },
    {
      "cell_type": "code",
      "source": "(sigma_x * sigma_p - h/2 >= 0).simplify()",
      "metadata": {
        "trusted": true
      },
      "outputs": [],
      "execution_count": null
    },
    {
      "cell_type": "markdown",
      "source": "Nierówność jest prawdziwa dla każdego dodatniego i całkowitego n\n",
      "metadata": {}
    }
  ]
}